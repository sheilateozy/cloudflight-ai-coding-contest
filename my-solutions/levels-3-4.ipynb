{
 "cells": [
  {
   "cell_type": "code",
   "execution_count": 1,
   "metadata": {},
   "outputs": [],
   "source": [
    "import pandas as pd\n",
    "import numpy as np"
   ]
  },
  {
   "attachments": {},
   "cell_type": "markdown",
   "metadata": {},
   "source": [
    "# level 3"
   ]
  },
  {
   "cell_type": "code",
   "execution_count": 2,
   "metadata": {},
   "outputs": [],
   "source": [
    "train = pd.read_csv('encrypted/train_data.csv')"
   ]
  },
  {
   "cell_type": "code",
   "execution_count": 3,
   "metadata": {},
   "outputs": [
    {
     "data": {
      "text/html": [
       "<div>\n",
       "<style scoped>\n",
       "    .dataframe tbody tr th:only-of-type {\n",
       "        vertical-align: middle;\n",
       "    }\n",
       "\n",
       "    .dataframe tbody tr th {\n",
       "        vertical-align: top;\n",
       "    }\n",
       "\n",
       "    .dataframe thead th {\n",
       "        text-align: right;\n",
       "    }\n",
       "</style>\n",
       "<table border=\"1\" class=\"dataframe\">\n",
       "  <thead>\n",
       "    <tr style=\"text-align: right;\">\n",
       "      <th></th>\n",
       "      <th>MODE</th>\n",
       "      <th>POWER</th>\n",
       "      <th>AMPS</th>\n",
       "      <th>VOLTS</th>\n",
       "      <th>TEMP</th>\n",
       "      <th>UNIT</th>\n",
       "      <th>DELTA</th>\n",
       "      <th>GAMMA</th>\n",
       "      <th>OUTPUT</th>\n",
       "    </tr>\n",
       "  </thead>\n",
       "  <tbody>\n",
       "    <tr>\n",
       "      <th>0</th>\n",
       "      <td>REDACTED</td>\n",
       "      <td>high</td>\n",
       "      <td>0.585</td>\n",
       "      <td>4.347</td>\n",
       "      <td>66.812</td>\n",
       "      <td>C</td>\n",
       "      <td>-0.659</td>\n",
       "      <td>-0.527</td>\n",
       "      <td>3.749</td>\n",
       "    </tr>\n",
       "    <tr>\n",
       "      <th>1</th>\n",
       "      <td>beam</td>\n",
       "      <td>low</td>\n",
       "      <td>0.687</td>\n",
       "      <td>2.412</td>\n",
       "      <td>-17.044</td>\n",
       "      <td>C</td>\n",
       "      <td>0.508</td>\n",
       "      <td>-0.371</td>\n",
       "      <td>-1.062</td>\n",
       "    </tr>\n",
       "    <tr>\n",
       "      <th>2</th>\n",
       "      <td>REDACTED</td>\n",
       "      <td>low</td>\n",
       "      <td>0.888</td>\n",
       "      <td>2.979</td>\n",
       "      <td>40.918</td>\n",
       "      <td>C</td>\n",
       "      <td>0.600</td>\n",
       "      <td>1.412</td>\n",
       "      <td>2.265</td>\n",
       "    </tr>\n",
       "    <tr>\n",
       "      <th>3</th>\n",
       "      <td>auto</td>\n",
       "      <td>low</td>\n",
       "      <td>0.114</td>\n",
       "      <td>0.754</td>\n",
       "      <td>-43.308</td>\n",
       "      <td>C</td>\n",
       "      <td>-0.760</td>\n",
       "      <td>-0.109</td>\n",
       "      <td>1.847</td>\n",
       "    </tr>\n",
       "    <tr>\n",
       "      <th>4</th>\n",
       "      <td>burst</td>\n",
       "      <td>high</td>\n",
       "      <td>0.318</td>\n",
       "      <td>3.955</td>\n",
       "      <td>37.752</td>\n",
       "      <td>C</td>\n",
       "      <td>-0.751</td>\n",
       "      <td>0.492</td>\n",
       "      <td>1.821</td>\n",
       "    </tr>\n",
       "    <tr>\n",
       "      <th>...</th>\n",
       "      <td>...</td>\n",
       "      <td>...</td>\n",
       "      <td>...</td>\n",
       "      <td>...</td>\n",
       "      <td>...</td>\n",
       "      <td>...</td>\n",
       "      <td>...</td>\n",
       "      <td>...</td>\n",
       "      <td>...</td>\n",
       "    </tr>\n",
       "    <tr>\n",
       "      <th>995</th>\n",
       "      <td>auto</td>\n",
       "      <td>low</td>\n",
       "      <td>0.350</td>\n",
       "      <td>4.257</td>\n",
       "      <td>274.581</td>\n",
       "      <td>K</td>\n",
       "      <td>0.991</td>\n",
       "      <td>-0.335</td>\n",
       "      <td>2.466</td>\n",
       "    </tr>\n",
       "    <tr>\n",
       "      <th>996</th>\n",
       "      <td>beam</td>\n",
       "      <td>low</td>\n",
       "      <td>0.644</td>\n",
       "      <td>1.128</td>\n",
       "      <td>-27.707</td>\n",
       "      <td>C</td>\n",
       "      <td>-0.529</td>\n",
       "      <td>0.034</td>\n",
       "      <td>-1.834</td>\n",
       "    </tr>\n",
       "    <tr>\n",
       "      <th>997</th>\n",
       "      <td>burst</td>\n",
       "      <td>low</td>\n",
       "      <td>0.887</td>\n",
       "      <td>1.418</td>\n",
       "      <td>201.560</td>\n",
       "      <td>?</td>\n",
       "      <td>0.729</td>\n",
       "      <td>-0.503</td>\n",
       "      <td>-0.188</td>\n",
       "    </tr>\n",
       "    <tr>\n",
       "      <th>998</th>\n",
       "      <td>REDACTED</td>\n",
       "      <td>low</td>\n",
       "      <td>0.323</td>\n",
       "      <td>0.291</td>\n",
       "      <td>-17.162</td>\n",
       "      <td>C</td>\n",
       "      <td>-0.120</td>\n",
       "      <td>0.524</td>\n",
       "      <td>0.081</td>\n",
       "    </tr>\n",
       "    <tr>\n",
       "      <th>999</th>\n",
       "      <td>beam</td>\n",
       "      <td>high</td>\n",
       "      <td>0.344</td>\n",
       "      <td>2.538</td>\n",
       "      <td>-32.986</td>\n",
       "      <td>C</td>\n",
       "      <td>0.075</td>\n",
       "      <td>0.840</td>\n",
       "      <td>-0.379</td>\n",
       "    </tr>\n",
       "  </tbody>\n",
       "</table>\n",
       "<p>1000 rows × 9 columns</p>\n",
       "</div>"
      ],
      "text/plain": [
       "         MODE POWER   AMPS  VOLTS     TEMP UNIT  DELTA  GAMMA  OUTPUT\n",
       "0    REDACTED  high  0.585  4.347   66.812    C -0.659 -0.527   3.749\n",
       "1        beam   low  0.687  2.412  -17.044    C  0.508 -0.371  -1.062\n",
       "2    REDACTED   low  0.888  2.979   40.918    C  0.600  1.412   2.265\n",
       "3        auto   low  0.114  0.754  -43.308    C -0.760 -0.109   1.847\n",
       "4       burst  high  0.318  3.955   37.752    C -0.751  0.492   1.821\n",
       "..        ...   ...    ...    ...      ...  ...    ...    ...     ...\n",
       "995      auto   low  0.350  4.257  274.581    K  0.991 -0.335   2.466\n",
       "996      beam   low  0.644  1.128  -27.707    C -0.529  0.034  -1.834\n",
       "997     burst   low  0.887  1.418  201.560    ?  0.729 -0.503  -0.188\n",
       "998  REDACTED   low  0.323  0.291  -17.162    C -0.120  0.524   0.081\n",
       "999      beam  high  0.344  2.538  -32.986    C  0.075  0.840  -0.379\n",
       "\n",
       "[1000 rows x 9 columns]"
      ]
     },
     "execution_count": 3,
     "metadata": {},
     "output_type": "execute_result"
    }
   ],
   "source": [
    "train"
   ]
  },
  {
   "cell_type": "code",
   "execution_count": 4,
   "metadata": {},
   "outputs": [
    {
     "data": {
      "text/html": [
       "<div>\n",
       "<style scoped>\n",
       "    .dataframe tbody tr th:only-of-type {\n",
       "        vertical-align: middle;\n",
       "    }\n",
       "\n",
       "    .dataframe tbody tr th {\n",
       "        vertical-align: top;\n",
       "    }\n",
       "\n",
       "    .dataframe thead th {\n",
       "        text-align: right;\n",
       "    }\n",
       "</style>\n",
       "<table border=\"1\" class=\"dataframe\">\n",
       "  <thead>\n",
       "    <tr style=\"text-align: right;\">\n",
       "      <th></th>\n",
       "      <th>AMPS</th>\n",
       "      <th>VOLTS</th>\n",
       "      <th>TEMP</th>\n",
       "      <th>DELTA</th>\n",
       "      <th>GAMMA</th>\n",
       "      <th>OUTPUT</th>\n",
       "    </tr>\n",
       "  </thead>\n",
       "  <tbody>\n",
       "    <tr>\n",
       "      <th>count</th>\n",
       "      <td>1000.000000</td>\n",
       "      <td>1000.000000</td>\n",
       "      <td>1000.000000</td>\n",
       "      <td>1000.000000</td>\n",
       "      <td>1000.000000</td>\n",
       "      <td>984.000000</td>\n",
       "    </tr>\n",
       "    <tr>\n",
       "      <th>mean</th>\n",
       "      <td>-0.887201</td>\n",
       "      <td>2.005609</td>\n",
       "      <td>80.464875</td>\n",
       "      <td>-0.032228</td>\n",
       "      <td>-0.003582</td>\n",
       "      <td>0.154499</td>\n",
       "    </tr>\n",
       "    <tr>\n",
       "      <th>std</th>\n",
       "      <td>11.700414</td>\n",
       "      <td>1.402833</td>\n",
       "      <td>133.919229</td>\n",
       "      <td>0.560987</td>\n",
       "      <td>0.748727</td>\n",
       "      <td>2.494606</td>\n",
       "    </tr>\n",
       "    <tr>\n",
       "      <th>min</th>\n",
       "      <td>-99.000000</td>\n",
       "      <td>0.020000</td>\n",
       "      <td>-100.000000</td>\n",
       "      <td>-1.000000</td>\n",
       "      <td>-2.000000</td>\n",
       "      <td>-8.323000</td>\n",
       "    </tr>\n",
       "    <tr>\n",
       "      <th>25%</th>\n",
       "      <td>0.248000</td>\n",
       "      <td>0.961000</td>\n",
       "      <td>-19.889250</td>\n",
       "      <td>-0.515250</td>\n",
       "      <td>-0.532750</td>\n",
       "      <td>-0.346750</td>\n",
       "    </tr>\n",
       "    <tr>\n",
       "      <th>50%</th>\n",
       "      <td>0.502500</td>\n",
       "      <td>1.719500</td>\n",
       "      <td>27.403500</td>\n",
       "      <td>-0.022000</td>\n",
       "      <td>-0.016500</td>\n",
       "      <td>0.200500</td>\n",
       "    </tr>\n",
       "    <tr>\n",
       "      <th>75%</th>\n",
       "      <td>0.758250</td>\n",
       "      <td>2.708000</td>\n",
       "      <td>223.820500</td>\n",
       "      <td>0.444250</td>\n",
       "      <td>0.519000</td>\n",
       "      <td>1.901750</td>\n",
       "    </tr>\n",
       "    <tr>\n",
       "      <th>max</th>\n",
       "      <td>0.999000</td>\n",
       "      <td>8.700000</td>\n",
       "      <td>373.150000</td>\n",
       "      <td>0.991000</td>\n",
       "      <td>2.000000</td>\n",
       "      <td>9.274000</td>\n",
       "    </tr>\n",
       "  </tbody>\n",
       "</table>\n",
       "</div>"
      ],
      "text/plain": [
       "              AMPS        VOLTS         TEMP        DELTA        GAMMA  \\\n",
       "count  1000.000000  1000.000000  1000.000000  1000.000000  1000.000000   \n",
       "mean     -0.887201     2.005609    80.464875    -0.032228    -0.003582   \n",
       "std      11.700414     1.402833   133.919229     0.560987     0.748727   \n",
       "min     -99.000000     0.020000  -100.000000    -1.000000    -2.000000   \n",
       "25%       0.248000     0.961000   -19.889250    -0.515250    -0.532750   \n",
       "50%       0.502500     1.719500    27.403500    -0.022000    -0.016500   \n",
       "75%       0.758250     2.708000   223.820500     0.444250     0.519000   \n",
       "max       0.999000     8.700000   373.150000     0.991000     2.000000   \n",
       "\n",
       "           OUTPUT  \n",
       "count  984.000000  \n",
       "mean     0.154499  \n",
       "std      2.494606  \n",
       "min     -8.323000  \n",
       "25%     -0.346750  \n",
       "50%      0.200500  \n",
       "75%      1.901750  \n",
       "max      9.274000  "
      ]
     },
     "execution_count": 4,
     "metadata": {},
     "output_type": "execute_result"
    }
   ],
   "source": [
    "train.describe()"
   ]
  },
  {
   "cell_type": "code",
   "execution_count": 5,
   "metadata": {},
   "outputs": [],
   "source": [
    "train_clean = train[~((train['AMPS'] < 0) | (train['AMPS'] > 1))]"
   ]
  },
  {
   "cell_type": "code",
   "execution_count": 6,
   "metadata": {},
   "outputs": [],
   "source": [
    "train_clean = train_clean.dropna()"
   ]
  },
  {
   "cell_type": "code",
   "execution_count": 7,
   "metadata": {},
   "outputs": [
    {
     "data": {
      "text/plain": [
       "971"
      ]
     },
     "execution_count": 7,
     "metadata": {},
     "output_type": "execute_result"
    }
   ],
   "source": [
    "len(train_clean)"
   ]
  },
  {
   "attachments": {},
   "cell_type": "markdown",
   "metadata": {},
   "source": [
    "# level 4"
   ]
  },
  {
   "cell_type": "code",
   "execution_count": 11,
   "metadata": {},
   "outputs": [],
   "source": [
    "train_clean['TEMP'] = np.where(train_clean['UNIT'] == 'K', train_clean['TEMP'] - 273.15, train_clean['TEMP'])"
   ]
  },
  {
   "cell_type": "code",
   "execution_count": 12,
   "metadata": {},
   "outputs": [],
   "source": [
    "#get mean and std of UNIT=K"
   ]
  },
  {
   "cell_type": "code",
   "execution_count": 13,
   "metadata": {},
   "outputs": [
    {
     "data": {
      "text/plain": [
       "-0.6903755656108361"
      ]
     },
     "execution_count": 13,
     "metadata": {},
     "output_type": "execute_result"
    }
   ],
   "source": [
    "train_clean[train_clean['UNIT'] == 'K']['TEMP'].mean()"
   ]
  },
  {
   "cell_type": "code",
   "execution_count": 14,
   "metadata": {},
   "outputs": [
    {
     "data": {
      "text/plain": [
       "47.71908880263499"
      ]
     },
     "execution_count": 14,
     "metadata": {},
     "output_type": "execute_result"
    }
   ],
   "source": [
    "train_clean[train_clean['UNIT'] == 'K']['TEMP'].std()"
   ]
  },
  {
   "cell_type": "code",
   "execution_count": 15,
   "metadata": {},
   "outputs": [],
   "source": [
    "#handle UNIT = ? by dropping such rows"
   ]
  },
  {
   "cell_type": "code",
   "execution_count": 16,
   "metadata": {},
   "outputs": [
    {
     "name": "stdout",
     "output_type": "stream",
     "text": [
      "0.10401647785787847\n"
     ]
    }
   ],
   "source": [
    "print(len(train_clean[train_clean['UNIT'] == '?']) / len(train_clean))  #dropping 10% of training data\n",
    "\n",
    "train_clean = train_clean[~(train_clean['UNIT'] == '?')]"
   ]
  },
  {
   "cell_type": "markdown",
   "metadata": {},
   "source": [
    "# prep for prediction task in next few levels"
   ]
  },
  {
   "cell_type": "code",
   "execution_count": 18,
   "metadata": {},
   "outputs": [],
   "source": [
    "#get test set"
   ]
  },
  {
   "cell_type": "code",
   "execution_count": 19,
   "metadata": {},
   "outputs": [],
   "source": [
    "test = pd.read_csv('encrypted/test_data.csv')"
   ]
  },
  {
   "cell_type": "code",
   "execution_count": 20,
   "metadata": {},
   "outputs": [
    {
     "data": {
      "text/html": [
       "<div>\n",
       "<style scoped>\n",
       "    .dataframe tbody tr th:only-of-type {\n",
       "        vertical-align: middle;\n",
       "    }\n",
       "\n",
       "    .dataframe tbody tr th {\n",
       "        vertical-align: top;\n",
       "    }\n",
       "\n",
       "    .dataframe thead th {\n",
       "        text-align: right;\n",
       "    }\n",
       "</style>\n",
       "<table border=\"1\" class=\"dataframe\">\n",
       "  <thead>\n",
       "    <tr style=\"text-align: right;\">\n",
       "      <th></th>\n",
       "      <th>MODE</th>\n",
       "      <th>POWER</th>\n",
       "      <th>AMPS</th>\n",
       "      <th>VOLTS</th>\n",
       "      <th>TEMP</th>\n",
       "      <th>UNIT</th>\n",
       "      <th>DELTA</th>\n",
       "      <th>GAMMA</th>\n",
       "    </tr>\n",
       "  </thead>\n",
       "  <tbody>\n",
       "    <tr>\n",
       "      <th>0</th>\n",
       "      <td>REDACTED</td>\n",
       "      <td>high</td>\n",
       "      <td>0.126</td>\n",
       "      <td>7.489</td>\n",
       "      <td>14.284</td>\n",
       "      <td>C</td>\n",
       "      <td>-0.818</td>\n",
       "      <td>0.692</td>\n",
       "    </tr>\n",
       "    <tr>\n",
       "      <th>1</th>\n",
       "      <td>REDACTED</td>\n",
       "      <td>high</td>\n",
       "      <td>0.917</td>\n",
       "      <td>4.557</td>\n",
       "      <td>17.746</td>\n",
       "      <td>C</td>\n",
       "      <td>0.251</td>\n",
       "      <td>-0.709</td>\n",
       "    </tr>\n",
       "    <tr>\n",
       "      <th>2</th>\n",
       "      <td>REDACTED</td>\n",
       "      <td>high</td>\n",
       "      <td>0.508</td>\n",
       "      <td>2.928</td>\n",
       "      <td>-9.866</td>\n",
       "      <td>C</td>\n",
       "      <td>-0.273</td>\n",
       "      <td>1.056</td>\n",
       "    </tr>\n",
       "    <tr>\n",
       "      <th>3</th>\n",
       "      <td>auto</td>\n",
       "      <td>low</td>\n",
       "      <td>0.832</td>\n",
       "      <td>2.464</td>\n",
       "      <td>-32.047</td>\n",
       "      <td>C</td>\n",
       "      <td>0.145</td>\n",
       "      <td>-0.572</td>\n",
       "    </tr>\n",
       "    <tr>\n",
       "      <th>4</th>\n",
       "      <td>auto</td>\n",
       "      <td>low</td>\n",
       "      <td>0.501</td>\n",
       "      <td>2.711</td>\n",
       "      <td>1.349</td>\n",
       "      <td>C</td>\n",
       "      <td>0.431</td>\n",
       "      <td>-0.939</td>\n",
       "    </tr>\n",
       "    <tr>\n",
       "      <th>...</th>\n",
       "      <td>...</td>\n",
       "      <td>...</td>\n",
       "      <td>...</td>\n",
       "      <td>...</td>\n",
       "      <td>...</td>\n",
       "      <td>...</td>\n",
       "      <td>...</td>\n",
       "      <td>...</td>\n",
       "    </tr>\n",
       "    <tr>\n",
       "      <th>2495</th>\n",
       "      <td>REDACTED</td>\n",
       "      <td>high</td>\n",
       "      <td>0.639</td>\n",
       "      <td>2.318</td>\n",
       "      <td>-21.235</td>\n",
       "      <td>C</td>\n",
       "      <td>-0.786</td>\n",
       "      <td>0.399</td>\n",
       "    </tr>\n",
       "    <tr>\n",
       "      <th>2496</th>\n",
       "      <td>REDACTED</td>\n",
       "      <td>high</td>\n",
       "      <td>0.630</td>\n",
       "      <td>1.569</td>\n",
       "      <td>-12.947</td>\n",
       "      <td>C</td>\n",
       "      <td>0.768</td>\n",
       "      <td>-0.001</td>\n",
       "    </tr>\n",
       "    <tr>\n",
       "      <th>2497</th>\n",
       "      <td>auto</td>\n",
       "      <td>low</td>\n",
       "      <td>0.813</td>\n",
       "      <td>1.854</td>\n",
       "      <td>-29.502</td>\n",
       "      <td>C</td>\n",
       "      <td>-0.408</td>\n",
       "      <td>0.638</td>\n",
       "    </tr>\n",
       "    <tr>\n",
       "      <th>2498</th>\n",
       "      <td>auto</td>\n",
       "      <td>low</td>\n",
       "      <td>0.172</td>\n",
       "      <td>3.663</td>\n",
       "      <td>-0.141</td>\n",
       "      <td>C</td>\n",
       "      <td>0.595</td>\n",
       "      <td>0.995</td>\n",
       "    </tr>\n",
       "    <tr>\n",
       "      <th>2499</th>\n",
       "      <td>beam</td>\n",
       "      <td>low</td>\n",
       "      <td>0.644</td>\n",
       "      <td>2.496</td>\n",
       "      <td>45.466</td>\n",
       "      <td>C</td>\n",
       "      <td>-0.092</td>\n",
       "      <td>-0.130</td>\n",
       "    </tr>\n",
       "  </tbody>\n",
       "</table>\n",
       "<p>2500 rows × 8 columns</p>\n",
       "</div>"
      ],
      "text/plain": [
       "          MODE POWER   AMPS  VOLTS    TEMP UNIT  DELTA  GAMMA\n",
       "0     REDACTED  high  0.126  7.489  14.284    C -0.818  0.692\n",
       "1     REDACTED  high  0.917  4.557  17.746    C  0.251 -0.709\n",
       "2     REDACTED  high  0.508  2.928  -9.866    C -0.273  1.056\n",
       "3         auto   low  0.832  2.464 -32.047    C  0.145 -0.572\n",
       "4         auto   low  0.501  2.711   1.349    C  0.431 -0.939\n",
       "...        ...   ...    ...    ...     ...  ...    ...    ...\n",
       "2495  REDACTED  high  0.639  2.318 -21.235    C -0.786  0.399\n",
       "2496  REDACTED  high  0.630  1.569 -12.947    C  0.768 -0.001\n",
       "2497      auto   low  0.813  1.854 -29.502    C -0.408  0.638\n",
       "2498      auto   low  0.172  3.663  -0.141    C  0.595  0.995\n",
       "2499      beam   low  0.644  2.496  45.466    C -0.092 -0.130\n",
       "\n",
       "[2500 rows x 8 columns]"
      ]
     },
     "execution_count": 20,
     "metadata": {},
     "output_type": "execute_result"
    }
   ],
   "source": [
    "test"
   ]
  },
  {
   "cell_type": "code",
   "execution_count": 21,
   "metadata": {},
   "outputs": [],
   "source": [
    "#drop unit col for both training and test set bc it's not a useful feature\n",
    "\n",
    "train_clean = train_clean.drop('UNIT', axis='columns')\n",
    "test_clean = test.drop('UNIT', axis='columns')"
   ]
  },
  {
   "cell_type": "code",
   "execution_count": 22,
   "metadata": {},
   "outputs": [],
   "source": [
    "train_clean.to_csv('../prediction-task/train-clean.csv', index=False)\n",
    "test_clean.to_csv('../prediction-task/test-clean.csv', index=False)"
   ]
  }
 ],
 "metadata": {
  "kernelspec": {
   "display_name": "st_env",
   "language": "python",
   "name": "python3"
  },
  "language_info": {
   "codemirror_mode": {
    "name": "ipython",
    "version": 3
   },
   "file_extension": ".py",
   "mimetype": "text/x-python",
   "name": "python",
   "nbconvert_exporter": "python",
   "pygments_lexer": "ipython3",
   "version": "3.9.13"
  },
  "orig_nbformat": 4
 },
 "nbformat": 4,
 "nbformat_minor": 2
}
